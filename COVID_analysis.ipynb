{
 "cells": [
  {
   "cell_type": "markdown",
   "id": "36f085be-f988-4ff6-a689-e421eb6283fc",
   "metadata": {},
   "source": [
    "# COVID Project"
   ]
  },
  {
   "cell_type": "markdown",
   "id": "e33bba06-8f2f-4b97-bb51-f57ee22fdcc1",
   "metadata": {},
   "source": [
    "For this research project, I will be conducting an analysis of COVID-19 sequences that have been sourced from the GISAID database. Specifically, my focus will be on data that pertains to the former Soviet Union countries. All of the necessary data has been obtained from GISAID, and I have implemented several filters such as geography, completeness, low coverage exclusion, and collection date completeness to ensure the quality and relevance of the data being used."
   ]
  },
  {
   "cell_type": "markdown",
   "id": "b74d9109-6b41-427e-9075-881cb038d649",
   "metadata": {},
   "source": [
    "## All imports"
   ]
  },
  {
   "cell_type": "code",
   "execution_count": 1,
   "id": "04eacdc6-05da-45a4-9dd0-82e041705699",
   "metadata": {},
   "outputs": [],
   "source": [
    "import pandas as pd\n",
    "import re\n",
    "import matplotlib.pyplot as plt\n",
    "import glob\n",
    "from Bio import SeqIO\n",
    "from Bio import AlignIO"
   ]
  },
  {
   "cell_type": "markdown",
   "id": "ec86fb66-55d0-4a83-a41f-3b2dbb3df200",
   "metadata": {},
   "source": [
    "# Distribution of patients, global"
   ]
  },
  {
   "cell_type": "markdown",
   "id": "02683d91-e7ea-434d-8d03-e0455589c104",
   "metadata": {},
   "source": [
    "Below is the distribution of submissions by every country (global). "
   ]
  },
  {
   "cell_type": "code",
   "execution_count": 2,
   "id": "d05bc285-afc4-46bf-8c51-8e5aa0b4d877",
   "metadata": {},
   "outputs": [
    {
     "data": {
      "text/html": [
       "<div>\n",
       "<style scoped>\n",
       "    .dataframe tbody tr th:only-of-type {\n",
       "        vertical-align: middle;\n",
       "    }\n",
       "\n",
       "    .dataframe tbody tr th {\n",
       "        vertical-align: top;\n",
       "    }\n",
       "\n",
       "    .dataframe thead th {\n",
       "        text-align: right;\n",
       "    }\n",
       "</style>\n",
       "<table border=\"1\" class=\"dataframe\">\n",
       "  <thead>\n",
       "    <tr style=\"text-align: right;\">\n",
       "      <th></th>\n",
       "      <th>country</th>\n",
       "      <th>total</th>\n",
       "    </tr>\n",
       "  </thead>\n",
       "  <tbody>\n",
       "    <tr>\n",
       "      <th>0</th>\n",
       "      <td>Afghanistan</td>\n",
       "      <td>125</td>\n",
       "    </tr>\n",
       "    <tr>\n",
       "      <th>1</th>\n",
       "      <td>Albania</td>\n",
       "      <td>1371</td>\n",
       "    </tr>\n",
       "    <tr>\n",
       "      <th>2</th>\n",
       "      <td>Algeria</td>\n",
       "      <td>797</td>\n",
       "    </tr>\n",
       "    <tr>\n",
       "      <th>3</th>\n",
       "      <td>American Samoa</td>\n",
       "      <td>121</td>\n",
       "    </tr>\n",
       "    <tr>\n",
       "      <th>4</th>\n",
       "      <td>Andorra</td>\n",
       "      <td>393</td>\n",
       "    </tr>\n",
       "    <tr>\n",
       "      <th>...</th>\n",
       "      <td>...</td>\n",
       "      <td>...</td>\n",
       "    </tr>\n",
       "    <tr>\n",
       "      <th>218</th>\n",
       "      <td>Vietnam</td>\n",
       "      <td>8692</td>\n",
       "    </tr>\n",
       "    <tr>\n",
       "      <th>219</th>\n",
       "      <td>Wallis and Futuna Islands</td>\n",
       "      <td>10</td>\n",
       "    </tr>\n",
       "    <tr>\n",
       "      <th>220</th>\n",
       "      <td>Zambia</td>\n",
       "      <td>2309</td>\n",
       "    </tr>\n",
       "    <tr>\n",
       "      <th>221</th>\n",
       "      <td>Zimbabwe</td>\n",
       "      <td>1010</td>\n",
       "    </tr>\n",
       "    <tr>\n",
       "      <th>222</th>\n",
       "      <td>monthly total:</td>\n",
       "      <td>15295448</td>\n",
       "    </tr>\n",
       "  </tbody>\n",
       "</table>\n",
       "<p>223 rows × 2 columns</p>\n",
       "</div>"
      ],
      "text/plain": [
       "                       country     total\n",
       "0                  Afghanistan       125\n",
       "1                      Albania      1371\n",
       "2                      Algeria       797\n",
       "3               American Samoa       121\n",
       "4                      Andorra       393\n",
       "..                         ...       ...\n",
       "218                    Vietnam      8692\n",
       "219  Wallis and Futuna Islands        10\n",
       "220                     Zambia      2309\n",
       "221                   Zimbabwe      1010\n",
       "222             monthly total:  15295448\n",
       "\n",
       "[223 rows x 2 columns]"
      ]
     },
     "execution_count": 2,
     "metadata": {},
     "output_type": "execute_result"
    }
   ],
   "source": [
    "df_submissions_raw = pd.read_excel(\"Data/gisaid_monthly_submissions_global_2023-03-28.xlsx\")\n",
    "\n",
    "df_submissions = df_submissions_raw[[\"Unnamed: 0\", \"country_total\"]].copy()\n",
    "df_submissions.rename(columns={\"Unnamed: 0\": \"country\", \"country_total\": \"total\"}, inplace=True)\n",
    "df_submissions"
   ]
  },
  {
   "cell_type": "markdown",
   "id": "c7a8061f-2c36-42a9-8563-807e51c1b452",
   "metadata": {},
   "source": [
    "There is no information comming from Tajikistan and Turkmenistan. Note, however, that number of actual records are lower if additional filters are used, like \"low coverage excluded\"."
   ]
  },
  {
   "cell_type": "code",
   "execution_count": 3,
   "id": "ad19a82a-fea1-418e-b895-47f3175c818e",
   "metadata": {},
   "outputs": [
    {
     "data": {
      "text/html": [
       "<div>\n",
       "<style scoped>\n",
       "    .dataframe tbody tr th:only-of-type {\n",
       "        vertical-align: middle;\n",
       "    }\n",
       "\n",
       "    .dataframe tbody tr th {\n",
       "        vertical-align: top;\n",
       "    }\n",
       "\n",
       "    .dataframe thead th {\n",
       "        text-align: right;\n",
       "    }\n",
       "</style>\n",
       "<table border=\"1\" class=\"dataframe\">\n",
       "  <thead>\n",
       "    <tr style=\"text-align: right;\">\n",
       "      <th></th>\n",
       "      <th>country</th>\n",
       "      <th>total</th>\n",
       "    </tr>\n",
       "  </thead>\n",
       "  <tbody>\n",
       "    <tr>\n",
       "      <th>9</th>\n",
       "      <td>Armenia</td>\n",
       "      <td>195</td>\n",
       "    </tr>\n",
       "    <tr>\n",
       "      <th>13</th>\n",
       "      <td>Azerbaijan</td>\n",
       "      <td>195</td>\n",
       "    </tr>\n",
       "    <tr>\n",
       "      <th>17</th>\n",
       "      <td>Belarus</td>\n",
       "      <td>526</td>\n",
       "    </tr>\n",
       "    <tr>\n",
       "      <th>64</th>\n",
       "      <td>Estonia</td>\n",
       "      <td>14916</td>\n",
       "    </tr>\n",
       "    <tr>\n",
       "      <th>75</th>\n",
       "      <td>Georgia</td>\n",
       "      <td>3019</td>\n",
       "    </tr>\n",
       "    <tr>\n",
       "      <th>102</th>\n",
       "      <td>Kazakhstan</td>\n",
       "      <td>2187</td>\n",
       "    </tr>\n",
       "    <tr>\n",
       "      <th>107</th>\n",
       "      <td>Kyrgyzstan</td>\n",
       "      <td>339</td>\n",
       "    </tr>\n",
       "    <tr>\n",
       "      <th>109</th>\n",
       "      <td>Latvia</td>\n",
       "      <td>27203</td>\n",
       "    </tr>\n",
       "    <tr>\n",
       "      <th>115</th>\n",
       "      <td>Lithuania</td>\n",
       "      <td>41672</td>\n",
       "    </tr>\n",
       "    <tr>\n",
       "      <th>131</th>\n",
       "      <td>Moldova</td>\n",
       "      <td>878</td>\n",
       "    </tr>\n",
       "    <tr>\n",
       "      <th>166</th>\n",
       "      <td>Russia</td>\n",
       "      <td>66338</td>\n",
       "    </tr>\n",
       "    <tr>\n",
       "      <th>211</th>\n",
       "      <td>Ukraine</td>\n",
       "      <td>2156</td>\n",
       "    </tr>\n",
       "    <tr>\n",
       "      <th>215</th>\n",
       "      <td>Uzbekistan</td>\n",
       "      <td>132</td>\n",
       "    </tr>\n",
       "  </tbody>\n",
       "</table>\n",
       "</div>"
      ],
      "text/plain": [
       "        country  total\n",
       "9       Armenia    195\n",
       "13   Azerbaijan    195\n",
       "17      Belarus    526\n",
       "64      Estonia  14916\n",
       "75      Georgia   3019\n",
       "102  Kazakhstan   2187\n",
       "107  Kyrgyzstan    339\n",
       "109      Latvia  27203\n",
       "115   Lithuania  41672\n",
       "131     Moldova    878\n",
       "166      Russia  66338\n",
       "211     Ukraine   2156\n",
       "215  Uzbekistan    132"
      ]
     },
     "execution_count": 3,
     "metadata": {},
     "output_type": "execute_result"
    }
   ],
   "source": [
    "soviet_countries = [\"Armenia\", \"Azerbaijan\", \"Belarus\", \"Estonia\", \"Georgia\",\n",
    "                    \"Kazakhstan\", \"Kyrgyzstan\", \"Latvia\", \"Lithuania\", \"Moldova\",\n",
    "                    \"Russia\", \"Tajikistan\", \"Turkmenistan\", \"Ukraine\", \"Uzbekistan\"]\n",
    "\n",
    "\n",
    "df_soviet = df_submissions[df_submissions[\"country\"].isin(soviet_countries)]\n",
    "\n",
    "df_soviet"
   ]
  },
  {
   "cell_type": "code",
   "execution_count": 4,
   "id": "4246d287-5a8e-4270-822c-64a650dd0491",
   "metadata": {},
   "outputs": [
    {
     "data": {
      "image/png": "[encoded data removed]",
      "text/plain": [
       "<Figure size 1000x1000 with 1 Axes>"
      ]
     },
     "metadata": {},
     "output_type": "display_data"
    }
   ],
   "source": [
    "labels = df_soviet[\"country\"]\n",
    "sizes = df_soviet[\"total\"]\n",
    "\n",
    "fig, ax = plt.subplots(figsize=(10,10))\n",
    "ax.pie(sizes, labels=labels, autopct='%1.1f%%');"
   ]
  },
  {
   "cell_type": "markdown",
   "id": "814d708e-f6b6-4144-8e82-857e2b1d50fa",
   "metadata": {},
   "source": [
    "# Data from the Former USSR countries"
   ]
  },
  {
   "cell_type": "markdown",
   "id": "2f483321-2c23-4e89-8e34-a3e2982a2bf8",
   "metadata": {},
   "source": [
    "## Data from Central Asia, Caucasus (excluding Russia), Moldova, and Ukraine"
   ]
  },
  {
   "cell_type": "markdown",
   "id": "4f081a00-9410-4ffb-8add-73ee7478848e",
   "metadata": {},
   "source": [
    "I used two filters from GISAID databate: Complete and High coverage. I accessed database through its website as I could not find API for it."
   ]
  },
  {
   "cell_type": "code",
   "execution_count": 5,
   "id": "8f263b8a-ab54-4b8c-866d-166276049081",
   "metadata": {},
   "outputs": [
    {
     "data": {
      "text/plain": [
       "['Data/Belarus.fasta',\n",
       " 'Data/gisaid_monthly_submissions_global_2023-03-28.xlsx',\n",
       " 'Data/Kyrgystan.tsv',\n",
       " 'Data/Uzbekistan.fasta',\n",
       " 'Data/Latvia_select2000.tsv',\n",
       " 'Data/Ukraine.fasta',\n",
       " 'Data/Lithuania_select2000.tsv',\n",
       " 'Data/Georgia.fasta',\n",
       " 'Data/Uzbekistan.tsv',\n",
       " 'Data/Azerbaijan.fasta',\n",
       " 'Data/Russia_select2000.fasta',\n",
       " 'Data/Moldova.tsv',\n",
       " 'Data/Kazakhstan.fasta',\n",
       " 'Data/Russia_select2000.tsv',\n",
       " 'Data/Kyrgyzstan.fasta',\n",
       " 'Data/Estonia_select2000.tsv',\n",
       " 'Data/Russia_all_ids.csv',\n",
       " 'Data/Estonia_select2000.fasta',\n",
       " 'Data/Estonia_all_ids.csv',\n",
       " 'Data/Armenia.tsv',\n",
       " 'Data/Ukraine.tsv',\n",
       " 'Data/Armenia.fasta',\n",
       " 'Data/Lithuania_select2000.fasta',\n",
       " 'Data/Azerbaijan.tsv',\n",
       " 'Data/Belarus.tsv',\n",
       " 'Data/Latvia_select2000.fasta',\n",
       " 'Data/Lithuania_all_ids.csv',\n",
       " 'Data/Latvia_all_ids.csv',\n",
       " 'Data/Moldova.fasta',\n",
       " 'Data/Georgia.tsv',\n",
       " 'Data/Kazakhstan.tsv']"
      ]
     },
     "execution_count": 5,
     "metadata": {},
     "output_type": "execute_result"
    }
   ],
   "source": [
    "# get all file names in Data directory\n",
    "glob.glob(\"Data/*\")"
   ]
  },
  {
   "cell_type": "code",
   "execution_count": 7,
   "id": "4bfc62ef-fcbe-487f-bd72-800f12fefce3",
   "metadata": {},
   "outputs": [
    {
     "data": {
      "text/html": [
       "<div>\n",
       "<style scoped>\n",
       "    .dataframe tbody tr th:only-of-type {\n",
       "        vertical-align: middle;\n",
       "    }\n",
       "\n",
       "    .dataframe tbody tr th {\n",
       "        vertical-align: top;\n",
       "    }\n",
       "\n",
       "    .dataframe thead th {\n",
       "        text-align: right;\n",
       "    }\n",
       "</style>\n",
       "<table border=\"1\" class=\"dataframe\">\n",
       "  <thead>\n",
       "    <tr style=\"text-align: right;\">\n",
       "      <th></th>\n",
       "      <th>Accession ID</th>\n",
       "      <th>Collection date</th>\n",
       "      <th>Submission date</th>\n",
       "      <th>Location</th>\n",
       "    </tr>\n",
       "  </thead>\n",
       "  <tbody>\n",
       "    <tr>\n",
       "      <th>0</th>\n",
       "      <td>EPI_ISL_13283877</td>\n",
       "      <td>2021-05-08</td>\n",
       "      <td>2022-06-14</td>\n",
       "      <td>Asia / Kyrgyzstan / Bishkek</td>\n",
       "    </tr>\n",
       "    <tr>\n",
       "      <th>1</th>\n",
       "      <td>EPI_ISL_13283887</td>\n",
       "      <td>2021-05-04</td>\n",
       "      <td>2022-06-14</td>\n",
       "      <td>Asia / Kyrgyzstan / Bishkek</td>\n",
       "    </tr>\n",
       "    <tr>\n",
       "      <th>2</th>\n",
       "      <td>EPI_ISL_13283889</td>\n",
       "      <td>2021-05-04</td>\n",
       "      <td>2022-06-14</td>\n",
       "      <td>Asia / Kyrgyzstan / Bishkek</td>\n",
       "    </tr>\n",
       "    <tr>\n",
       "      <th>3</th>\n",
       "      <td>EPI_ISL_13283891</td>\n",
       "      <td>2021-05-04</td>\n",
       "      <td>2022-06-14</td>\n",
       "      <td>Asia / Kyrgyzstan / Bishkek</td>\n",
       "    </tr>\n",
       "    <tr>\n",
       "      <th>4</th>\n",
       "      <td>EPI_ISL_13283892</td>\n",
       "      <td>2021-05-11</td>\n",
       "      <td>2022-06-14</td>\n",
       "      <td>Asia / Kyrgyzstan / Bishkek</td>\n",
       "    </tr>\n",
       "    <tr>\n",
       "      <th>...</th>\n",
       "      <td>...</td>\n",
       "      <td>...</td>\n",
       "      <td>...</td>\n",
       "      <td>...</td>\n",
       "    </tr>\n",
       "    <tr>\n",
       "      <th>2460</th>\n",
       "      <td>EPI_ISL_8907904</td>\n",
       "      <td>2020-08-10</td>\n",
       "      <td>2022-01-20</td>\n",
       "      <td>Asia / Kazakhstan / Kyzylorda Region / Baikonur</td>\n",
       "    </tr>\n",
       "    <tr>\n",
       "      <th>2461</th>\n",
       "      <td>EPI_ISL_8907905</td>\n",
       "      <td>2020-06-25</td>\n",
       "      <td>2022-01-20</td>\n",
       "      <td>Asia / Kazakhstan / Kyzylorda Region / Baikonur</td>\n",
       "    </tr>\n",
       "    <tr>\n",
       "      <th>2462</th>\n",
       "      <td>EPI_ISL_8907907</td>\n",
       "      <td>2020-06-26</td>\n",
       "      <td>2022-01-20</td>\n",
       "      <td>Asia / Kazakhstan / Kyzylorda Region / Baikonur</td>\n",
       "    </tr>\n",
       "    <tr>\n",
       "      <th>2463</th>\n",
       "      <td>EPI_ISL_8907908</td>\n",
       "      <td>2020-06-26</td>\n",
       "      <td>2022-01-20</td>\n",
       "      <td>Asia / Kazakhstan / Kyzylorda Region / Baikonur</td>\n",
       "    </tr>\n",
       "    <tr>\n",
       "      <th>2464</th>\n",
       "      <td>EPI_ISL_8907909</td>\n",
       "      <td>2020-06-23</td>\n",
       "      <td>2022-01-20</td>\n",
       "      <td>Asia / Kazakhstan / Kyzylorda Region / Baikonur</td>\n",
       "    </tr>\n",
       "  </tbody>\n",
       "</table>\n",
       "<p>2465 rows × 4 columns</p>\n",
       "</div>"
      ],
      "text/plain": [
       "          Accession ID Collection date Submission date  \\\n",
       "0     EPI_ISL_13283877      2021-05-08      2022-06-14   \n",
       "1     EPI_ISL_13283887      2021-05-04      2022-06-14   \n",
       "2     EPI_ISL_13283889      2021-05-04      2022-06-14   \n",
       "3     EPI_ISL_13283891      2021-05-04      2022-06-14   \n",
       "4     EPI_ISL_13283892      2021-05-11      2022-06-14   \n",
       "...                ...             ...             ...   \n",
       "2460   EPI_ISL_8907904      2020-08-10      2022-01-20   \n",
       "2461   EPI_ISL_8907905      2020-06-25      2022-01-20   \n",
       "2462   EPI_ISL_8907907      2020-06-26      2022-01-20   \n",
       "2463   EPI_ISL_8907908      2020-06-26      2022-01-20   \n",
       "2464   EPI_ISL_8907909      2020-06-23      2022-01-20   \n",
       "\n",
       "                                             Location  \n",
       "0                         Asia / Kyrgyzstan / Bishkek  \n",
       "1                         Asia / Kyrgyzstan / Bishkek  \n",
       "2                         Asia / Kyrgyzstan / Bishkek  \n",
       "3                         Asia / Kyrgyzstan / Bishkek  \n",
       "4                         Asia / Kyrgyzstan / Bishkek  \n",
       "...                                               ...  \n",
       "2460  Asia / Kazakhstan / Kyzylorda Region / Baikonur  \n",
       "2461  Asia / Kazakhstan / Kyzylorda Region / Baikonur  \n",
       "2462  Asia / Kazakhstan / Kyzylorda Region / Baikonur  \n",
       "2463  Asia / Kazakhstan / Kyzylorda Region / Baikonur  \n",
       "2464  Asia / Kazakhstan / Kyzylorda Region / Baikonur  \n",
       "\n",
       "[2465 rows x 4 columns]"
      ]
     },
     "execution_count": 7,
     "metadata": {},
     "output_type": "execute_result"
    }
   ],
   "source": [
    "# create a merged with data from Central Asia, Caucasus (excluding Russia), Moldova, and Ukraine\n",
    "dfs = []\n",
    "\n",
    "for filename in glob.glob(\"Data/*.tsv\"):\n",
    "    pattern = r'/([a-zA-Z]+)\\.tsv'\n",
    "    match = re.search(pattern, filename)\n",
    "    if match:\n",
    "        df = pd.read_csv(filename, sep='\\t')\n",
    "        dfs.append(df)\n",
    "    \n",
    "merged_df = pd.concat(dfs, ignore_index=True)\n",
    "\n",
    "merged_df"
   ]
  },
  {
   "cell_type": "code",
   "execution_count": 8,
   "id": "98264153-9f5d-4657-a0dd-a36c63e2cad7",
   "metadata": {},
   "outputs": [
    {
     "data": {
      "text/plain": [
       "2465"
      ]
     },
     "execution_count": 8,
     "metadata": {},
     "output_type": "execute_result"
    }
   ],
   "source": [
    "len(merged_df)"
   ]
  },
  {
   "cell_type": "code",
   "execution_count": 9,
   "id": "ba59a6cb-8c99-4981-a007-079f3ec55bcf",
   "metadata": {},
   "outputs": [],
   "source": [
    "list_regions = []\n",
    "list_countries = []\n",
    "list_cities = []\n",
    "\n",
    "for name in merged_df[\"Location\"]:\n",
    "    tmp = name.split(\" / \")\n",
    "    list_regions.append(tmp[0])\n",
    "    list_countries.append(tmp[1])        \n",
    "\n",
    "merged_df[\"Region\"] = list_regions\n",
    "merged_df[\"Country\"] = list_countries"
   ]
  },
  {
   "cell_type": "code",
   "execution_count": 10,
   "id": "6426fa4a-b28a-4e85-bdc7-9835e95d5222",
   "metadata": {},
   "outputs": [
    {
     "data": {
      "text/plain": [
       "{'Armenia',\n",
       " 'Azerbaijan',\n",
       " 'Belarus',\n",
       " 'Georgia',\n",
       " 'Kazakhstan',\n",
       " 'Kyrgyzstan',\n",
       " 'Moldova',\n",
       " 'Ukraine',\n",
       " 'Uzbekistan'}"
      ]
     },
     "execution_count": 10,
     "metadata": {},
     "output_type": "execute_result"
    }
   ],
   "source": [
    "set(list_countries)"
   ]
  },
  {
   "cell_type": "code",
   "execution_count": 11,
   "id": "0200d7eb-9762-4f5c-8b44-49c85fb51905",
   "metadata": {},
   "outputs": [
    {
     "data": {
      "text/html": [
       "<div>\n",
       "<style scoped>\n",
       "    .dataframe tbody tr th:only-of-type {\n",
       "        vertical-align: middle;\n",
       "    }\n",
       "\n",
       "    .dataframe tbody tr th {\n",
       "        vertical-align: top;\n",
       "    }\n",
       "\n",
       "    .dataframe thead th {\n",
       "        text-align: right;\n",
       "    }\n",
       "</style>\n",
       "<table border=\"1\" class=\"dataframe\">\n",
       "  <thead>\n",
       "    <tr style=\"text-align: right;\">\n",
       "      <th></th>\n",
       "      <th>Accession ID</th>\n",
       "      <th>Collection date</th>\n",
       "      <th>Submission date</th>\n",
       "      <th>Location</th>\n",
       "      <th>Region</th>\n",
       "      <th>Country</th>\n",
       "    </tr>\n",
       "  </thead>\n",
       "  <tbody>\n",
       "    <tr>\n",
       "      <th>0</th>\n",
       "      <td>EPI_ISL_13283877</td>\n",
       "      <td>2021-05-08</td>\n",
       "      <td>2022-06-14</td>\n",
       "      <td>Asia / Kyrgyzstan / Bishkek</td>\n",
       "      <td>Asia</td>\n",
       "      <td>Kyrgyzstan</td>\n",
       "    </tr>\n",
       "    <tr>\n",
       "      <th>1</th>\n",
       "      <td>EPI_ISL_13283887</td>\n",
       "      <td>2021-05-04</td>\n",
       "      <td>2022-06-14</td>\n",
       "      <td>Asia / Kyrgyzstan / Bishkek</td>\n",
       "      <td>Asia</td>\n",
       "      <td>Kyrgyzstan</td>\n",
       "    </tr>\n",
       "    <tr>\n",
       "      <th>2</th>\n",
       "      <td>EPI_ISL_13283889</td>\n",
       "      <td>2021-05-04</td>\n",
       "      <td>2022-06-14</td>\n",
       "      <td>Asia / Kyrgyzstan / Bishkek</td>\n",
       "      <td>Asia</td>\n",
       "      <td>Kyrgyzstan</td>\n",
       "    </tr>\n",
       "    <tr>\n",
       "      <th>3</th>\n",
       "      <td>EPI_ISL_13283891</td>\n",
       "      <td>2021-05-04</td>\n",
       "      <td>2022-06-14</td>\n",
       "      <td>Asia / Kyrgyzstan / Bishkek</td>\n",
       "      <td>Asia</td>\n",
       "      <td>Kyrgyzstan</td>\n",
       "    </tr>\n",
       "    <tr>\n",
       "      <th>4</th>\n",
       "      <td>EPI_ISL_13283892</td>\n",
       "      <td>2021-05-11</td>\n",
       "      <td>2022-06-14</td>\n",
       "      <td>Asia / Kyrgyzstan / Bishkek</td>\n",
       "      <td>Asia</td>\n",
       "      <td>Kyrgyzstan</td>\n",
       "    </tr>\n",
       "    <tr>\n",
       "      <th>...</th>\n",
       "      <td>...</td>\n",
       "      <td>...</td>\n",
       "      <td>...</td>\n",
       "      <td>...</td>\n",
       "      <td>...</td>\n",
       "      <td>...</td>\n",
       "    </tr>\n",
       "    <tr>\n",
       "      <th>2460</th>\n",
       "      <td>EPI_ISL_8907904</td>\n",
       "      <td>2020-08-10</td>\n",
       "      <td>2022-01-20</td>\n",
       "      <td>Asia / Kazakhstan / Kyzylorda Region / Baikonur</td>\n",
       "      <td>Asia</td>\n",
       "      <td>Kazakhstan</td>\n",
       "    </tr>\n",
       "    <tr>\n",
       "      <th>2461</th>\n",
       "      <td>EPI_ISL_8907905</td>\n",
       "      <td>2020-06-25</td>\n",
       "      <td>2022-01-20</td>\n",
       "      <td>Asia / Kazakhstan / Kyzylorda Region / Baikonur</td>\n",
       "      <td>Asia</td>\n",
       "      <td>Kazakhstan</td>\n",
       "    </tr>\n",
       "    <tr>\n",
       "      <th>2462</th>\n",
       "      <td>EPI_ISL_8907907</td>\n",
       "      <td>2020-06-26</td>\n",
       "      <td>2022-01-20</td>\n",
       "      <td>Asia / Kazakhstan / Kyzylorda Region / Baikonur</td>\n",
       "      <td>Asia</td>\n",
       "      <td>Kazakhstan</td>\n",
       "    </tr>\n",
       "    <tr>\n",
       "      <th>2463</th>\n",
       "      <td>EPI_ISL_8907908</td>\n",
       "      <td>2020-06-26</td>\n",
       "      <td>2022-01-20</td>\n",
       "      <td>Asia / Kazakhstan / Kyzylorda Region / Baikonur</td>\n",
       "      <td>Asia</td>\n",
       "      <td>Kazakhstan</td>\n",
       "    </tr>\n",
       "    <tr>\n",
       "      <th>2464</th>\n",
       "      <td>EPI_ISL_8907909</td>\n",
       "      <td>2020-06-23</td>\n",
       "      <td>2022-01-20</td>\n",
       "      <td>Asia / Kazakhstan / Kyzylorda Region / Baikonur</td>\n",
       "      <td>Asia</td>\n",
       "      <td>Kazakhstan</td>\n",
       "    </tr>\n",
       "  </tbody>\n",
       "</table>\n",
       "<p>2465 rows × 6 columns</p>\n",
       "</div>"
      ],
      "text/plain": [
       "          Accession ID Collection date Submission date  \\\n",
       "0     EPI_ISL_13283877      2021-05-08      2022-06-14   \n",
       "1     EPI_ISL_13283887      2021-05-04      2022-06-14   \n",
       "2     EPI_ISL_13283889      2021-05-04      2022-06-14   \n",
       "3     EPI_ISL_13283891      2021-05-04      2022-06-14   \n",
       "4     EPI_ISL_13283892      2021-05-11      2022-06-14   \n",
       "...                ...             ...             ...   \n",
       "2460   EPI_ISL_8907904      2020-08-10      2022-01-20   \n",
       "2461   EPI_ISL_8907905      2020-06-25      2022-01-20   \n",
       "2462   EPI_ISL_8907907      2020-06-26      2022-01-20   \n",
       "2463   EPI_ISL_8907908      2020-06-26      2022-01-20   \n",
       "2464   EPI_ISL_8907909      2020-06-23      2022-01-20   \n",
       "\n",
       "                                             Location Region     Country  \n",
       "0                         Asia / Kyrgyzstan / Bishkek   Asia  Kyrgyzstan  \n",
       "1                         Asia / Kyrgyzstan / Bishkek   Asia  Kyrgyzstan  \n",
       "2                         Asia / Kyrgyzstan / Bishkek   Asia  Kyrgyzstan  \n",
       "3                         Asia / Kyrgyzstan / Bishkek   Asia  Kyrgyzstan  \n",
       "4                         Asia / Kyrgyzstan / Bishkek   Asia  Kyrgyzstan  \n",
       "...                                               ...    ...         ...  \n",
       "2460  Asia / Kazakhstan / Kyzylorda Region / Baikonur   Asia  Kazakhstan  \n",
       "2461  Asia / Kazakhstan / Kyzylorda Region / Baikonur   Asia  Kazakhstan  \n",
       "2462  Asia / Kazakhstan / Kyzylorda Region / Baikonur   Asia  Kazakhstan  \n",
       "2463  Asia / Kazakhstan / Kyzylorda Region / Baikonur   Asia  Kazakhstan  \n",
       "2464  Asia / Kazakhstan / Kyzylorda Region / Baikonur   Asia  Kazakhstan  \n",
       "\n",
       "[2465 rows x 6 columns]"
      ]
     },
     "execution_count": 11,
     "metadata": {},
     "output_type": "execute_result"
    }
   ],
   "source": [
    "merged_df"
   ]
  },
  {
   "cell_type": "code",
   "execution_count": 12,
   "id": "81df71d9-ee91-4b7f-82c4-ad40887d5faa",
   "metadata": {},
   "outputs": [
    {
     "data": {
      "text/plain": [
       "Georgia       708\n",
       "Kazakhstan    543\n",
       "Ukraine       527\n",
       "Azerbaijan    158\n",
       "Moldova       151\n",
       "Kyrgyzstan    118\n",
       "Belarus       114\n",
       "Armenia        83\n",
       "Uzbekistan     63\n",
       "Name: Country, dtype: int64"
      ]
     },
     "execution_count": 12,
     "metadata": {},
     "output_type": "execute_result"
    }
   ],
   "source": [
    "merged_df[\"Country\"].value_counts()"
   ]
  },
  {
   "cell_type": "markdown",
   "id": "70490d44-5d18-4214-a760-9c38308e20aa",
   "metadata": {},
   "source": [
    "## Data from the rest of Europe "
   ]
  },
  {
   "cell_type": "markdown",
   "id": "7c589ca8-83c3-4dd5-994c-e86cc4fbe99b",
   "metadata": {},
   "source": [
    "It is apparent that the download capacity of GISAID posed a challenge in acquiring a comprehensive dataset for certain countries, such as Russia, Estonia, Latvia and Lithuania. To address this limitation, a decision was made to selectively download data from these countries by randomly selecting 2000 IDs from each. This approach allowed for a representative sample to be obtained, given the available data.\n",
    "\n",
    "Moreover, the application of filters such as \"Complete\", \"High coverage\" and \"Complete date\" was a prudent step to ensure that the downloaded data adhered to specific quality standards. Such measures helped to mitigate the risk of incorporating incomplete or low-quality data in the analysis."
   ]
  },
  {
   "cell_type": "code",
   "execution_count": 13,
   "id": "8be33505-7b39-4378-b783-991415198fb1",
   "metadata": {},
   "outputs": [
    {
     "data": {
      "text/plain": [
       "['Data/Russia_all_ids.csv',\n",
       " 'Data/Estonia_all_ids.csv',\n",
       " 'Data/Lithuania_all_ids.csv',\n",
       " 'Data/Latvia_all_ids.csv']"
      ]
     },
     "execution_count": 13,
     "metadata": {},
     "output_type": "execute_result"
    }
   ],
   "source": [
    "# all ids are saved in csv files\n",
    "glob.glob(\"Data/*.csv\")"
   ]
  },
  {
   "cell_type": "code",
   "execution_count": 14,
   "id": "ba6a84a2-1d0f-4897-97d4-d7bd8bbb56dc",
   "metadata": {},
   "outputs": [],
   "source": [
    "# create a merged df from all of the mentioned countries\n",
    "dfs = []\n",
    "\n",
    "for filename in glob.glob(\"Data/*.csv\"):  \n",
    "    \n",
    "    \n",
    "    df = pd.read_csv(filename, header=None)\n",
    "    \n",
    "    # extract name of a country\n",
    "    pattern = r'/([a-zA-Z]+)_all_ids\\.csv'\n",
    "    country = re.findall(pattern, filename)[0]\n",
    "    df[\"Country\"] = country\n",
    "    \n",
    "    dfs.append(df)\n",
    "    \n",
    "ids_df = pd.concat(dfs, ignore_index = True, axis=0)\n",
    "\n",
    "ids_df.rename(columns={0: \"Accession ID\"}, inplace=True)"
   ]
  },
  {
   "cell_type": "code",
   "execution_count": 16,
   "id": "54c8086d-974b-4005-92d6-eaf40fb55012",
   "metadata": {},
   "outputs": [
    {
     "data": {
      "text/html": [
       "<div>\n",
       "<style scoped>\n",
       "    .dataframe tbody tr th:only-of-type {\n",
       "        vertical-align: middle;\n",
       "    }\n",
       "\n",
       "    .dataframe tbody tr th {\n",
       "        vertical-align: top;\n",
       "    }\n",
       "\n",
       "    .dataframe thead th {\n",
       "        text-align: right;\n",
       "    }\n",
       "</style>\n",
       "<table border=\"1\" class=\"dataframe\">\n",
       "  <thead>\n",
       "    <tr style=\"text-align: right;\">\n",
       "      <th></th>\n",
       "      <th>Accession ID</th>\n",
       "      <th>Country</th>\n",
       "    </tr>\n",
       "  </thead>\n",
       "  <tbody>\n",
       "    <tr>\n",
       "      <th>0</th>\n",
       "      <td>EPI_ISL_15875833</td>\n",
       "      <td>Russia</td>\n",
       "    </tr>\n",
       "    <tr>\n",
       "      <th>1</th>\n",
       "      <td>EPI_ISL_15868119</td>\n",
       "      <td>Russia</td>\n",
       "    </tr>\n",
       "    <tr>\n",
       "      <th>2</th>\n",
       "      <td>EPI_ISL_2816265</td>\n",
       "      <td>Russia</td>\n",
       "    </tr>\n",
       "    <tr>\n",
       "      <th>3</th>\n",
       "      <td>EPI_ISL_15884923</td>\n",
       "      <td>Russia</td>\n",
       "    </tr>\n",
       "    <tr>\n",
       "      <th>4</th>\n",
       "      <td>EPI_ISL_15885602</td>\n",
       "      <td>Russia</td>\n",
       "    </tr>\n",
       "    <tr>\n",
       "      <th>...</th>\n",
       "      <td>...</td>\n",
       "      <td>...</td>\n",
       "    </tr>\n",
       "    <tr>\n",
       "      <th>7995</th>\n",
       "      <td>EPI_ISL_1613219</td>\n",
       "      <td>Latvia</td>\n",
       "    </tr>\n",
       "    <tr>\n",
       "      <th>7996</th>\n",
       "      <td>EPI_ISL_2799075</td>\n",
       "      <td>Latvia</td>\n",
       "    </tr>\n",
       "    <tr>\n",
       "      <th>7997</th>\n",
       "      <td>EPI_ISL_1219464</td>\n",
       "      <td>Latvia</td>\n",
       "    </tr>\n",
       "    <tr>\n",
       "      <th>7998</th>\n",
       "      <td>EPI_ISL_8385823</td>\n",
       "      <td>Latvia</td>\n",
       "    </tr>\n",
       "    <tr>\n",
       "      <th>7999</th>\n",
       "      <td>EPI_ISL_1312707</td>\n",
       "      <td>Latvia</td>\n",
       "    </tr>\n",
       "  </tbody>\n",
       "</table>\n",
       "<p>8000 rows × 2 columns</p>\n",
       "</div>"
      ],
      "text/plain": [
       "          Accession ID Country\n",
       "0     EPI_ISL_15875833  Russia\n",
       "1     EPI_ISL_15868119  Russia\n",
       "2      EPI_ISL_2816265  Russia\n",
       "3     EPI_ISL_15884923  Russia\n",
       "4     EPI_ISL_15885602  Russia\n",
       "...                ...     ...\n",
       "7995   EPI_ISL_1613219  Latvia\n",
       "7996   EPI_ISL_2799075  Latvia\n",
       "7997   EPI_ISL_1219464  Latvia\n",
       "7998   EPI_ISL_8385823  Latvia\n",
       "7999   EPI_ISL_1312707  Latvia\n",
       "\n",
       "[8000 rows x 2 columns]"
      ]
     },
     "execution_count": 16,
     "metadata": {},
     "output_type": "execute_result"
    }
   ],
   "source": [
    "# randomly select IDs from the mentioned in this paragraph countries\n",
    "# also saves these IDs into csvs\n",
    "countries = list(ids_df[\"Country\"].unique())\n",
    "\n",
    "dfs = []\n",
    "\n",
    "for country in countries:\n",
    "    df = ids_df[ids_df[\"Country\"] == country].sample(n=2000, random_state=1)\n",
    "    \n",
    "    # output a file containing only 2000 ids\n",
    "    output_name = \"Output/\" + country + \"_ids.csv\"\n",
    "    df[\"Accession ID\"].to_csv(output_name, index=False, index_label=False, header=False)\n",
    "    dfs.append(df)\n",
    "\n",
    "ids_df_random2000 = pd.concat(dfs, ignore_index=True)\n",
    "ids_df_random2000"
   ]
  },
  {
   "cell_type": "code",
   "execution_count": 26,
   "id": "7b4a0e1c-41bc-48e3-a7ac-fd0abb0b530e",
   "metadata": {},
   "outputs": [
    {
     "data": {
      "text/html": [
       "<div>\n",
       "<style scoped>\n",
       "    .dataframe tbody tr th:only-of-type {\n",
       "        vertical-align: middle;\n",
       "    }\n",
       "\n",
       "    .dataframe tbody tr th {\n",
       "        vertical-align: top;\n",
       "    }\n",
       "\n",
       "    .dataframe thead th {\n",
       "        text-align: right;\n",
       "    }\n",
       "</style>\n",
       "<table border=\"1\" class=\"dataframe\">\n",
       "  <thead>\n",
       "    <tr style=\"text-align: right;\">\n",
       "      <th></th>\n",
       "      <th>Accession ID</th>\n",
       "      <th>Country</th>\n",
       "    </tr>\n",
       "  </thead>\n",
       "  <tbody>\n",
       "    <tr>\n",
       "      <th>0</th>\n",
       "      <td>EPI_ISL_15875833</td>\n",
       "      <td>Russia</td>\n",
       "    </tr>\n",
       "    <tr>\n",
       "      <th>1</th>\n",
       "      <td>EPI_ISL_15868119</td>\n",
       "      <td>Russia</td>\n",
       "    </tr>\n",
       "    <tr>\n",
       "      <th>2</th>\n",
       "      <td>EPI_ISL_2816265</td>\n",
       "      <td>Russia</td>\n",
       "    </tr>\n",
       "    <tr>\n",
       "      <th>3</th>\n",
       "      <td>EPI_ISL_15884923</td>\n",
       "      <td>Russia</td>\n",
       "    </tr>\n",
       "    <tr>\n",
       "      <th>4</th>\n",
       "      <td>EPI_ISL_15885602</td>\n",
       "      <td>Russia</td>\n",
       "    </tr>\n",
       "    <tr>\n",
       "      <th>...</th>\n",
       "      <td>...</td>\n",
       "      <td>...</td>\n",
       "    </tr>\n",
       "    <tr>\n",
       "      <th>10460</th>\n",
       "      <td>EPI_ISL_8907904</td>\n",
       "      <td>Kazakhstan</td>\n",
       "    </tr>\n",
       "    <tr>\n",
       "      <th>10461</th>\n",
       "      <td>EPI_ISL_8907905</td>\n",
       "      <td>Kazakhstan</td>\n",
       "    </tr>\n",
       "    <tr>\n",
       "      <th>10462</th>\n",
       "      <td>EPI_ISL_8907907</td>\n",
       "      <td>Kazakhstan</td>\n",
       "    </tr>\n",
       "    <tr>\n",
       "      <th>10463</th>\n",
       "      <td>EPI_ISL_8907908</td>\n",
       "      <td>Kazakhstan</td>\n",
       "    </tr>\n",
       "    <tr>\n",
       "      <th>10464</th>\n",
       "      <td>EPI_ISL_8907909</td>\n",
       "      <td>Kazakhstan</td>\n",
       "    </tr>\n",
       "  </tbody>\n",
       "</table>\n",
       "<p>10465 rows × 2 columns</p>\n",
       "</div>"
      ],
      "text/plain": [
       "           Accession ID     Country\n",
       "0      EPI_ISL_15875833      Russia\n",
       "1      EPI_ISL_15868119      Russia\n",
       "2       EPI_ISL_2816265      Russia\n",
       "3      EPI_ISL_15884923      Russia\n",
       "4      EPI_ISL_15885602      Russia\n",
       "...                 ...         ...\n",
       "10460   EPI_ISL_8907904  Kazakhstan\n",
       "10461   EPI_ISL_8907905  Kazakhstan\n",
       "10462   EPI_ISL_8907907  Kazakhstan\n",
       "10463   EPI_ISL_8907908  Kazakhstan\n",
       "10464   EPI_ISL_8907909  Kazakhstan\n",
       "\n",
       "[10465 rows x 2 columns]"
      ]
     },
     "execution_count": 26,
     "metadata": {},
     "output_type": "execute_result"
    }
   ],
   "source": [
    "# create a table with all accession ID used along with countries\n",
    "all_countries = pd.concat([ids_df_random2000[[\"Accession ID\", \"Country\"]], merged_df[[\"Accession ID\", \"Country\"]]], ignore_index=True)\n",
    "all_countries"
   ]
  },
  {
   "cell_type": "code",
   "execution_count": 30,
   "id": "8fdb3d61-0451-4101-a505-9643318178db",
   "metadata": {},
   "outputs": [
    {
     "data": {
      "text/plain": [
       "Russia        2000\n",
       "Estonia       2000\n",
       "Lithuania     2000\n",
       "Latvia        2000\n",
       "Georgia        708\n",
       "Kazakhstan     543\n",
       "Ukraine        527\n",
       "Azerbaijan     158\n",
       "Moldova        151\n",
       "Kyrgyzstan     118\n",
       "Belarus        114\n",
       "Armenia         83\n",
       "Uzbekistan      63\n",
       "Name: Country, dtype: int64"
      ]
     },
     "execution_count": 30,
     "metadata": {},
     "output_type": "execute_result"
    }
   ],
   "source": [
    "all_countries[\"Country\"].value_counts()"
   ]
  },
  {
   "cell_type": "code",
   "execution_count": 31,
   "id": "3c531de4-7f25-4eae-a996-8231cfed50a7",
   "metadata": {},
   "outputs": [],
   "source": [
    "all_countries.to_csv(\"Output/all_countries.csv\", index=None)"
   ]
  },
  {
   "cell_type": "markdown",
   "id": "79b169d1-5b98-44d9-b85a-305145f9ac03",
   "metadata": {},
   "source": [
    "# Analysis of sequences"
   ]
  },
  {
   "cell_type": "markdown",
   "id": "28dbf4e9-ef57-4729-944d-3f4e6793c047",
   "metadata": {
    "tags": []
   },
   "source": [
    "## Combine all fasta files"
   ]
  },
  {
   "cell_type": "markdown",
   "id": "0ac83e67-6d36-4174-9aec-2aaa84b3966a",
   "metadata": {},
   "source": [
    "Here, all fasta files with individual countries are merged."
   ]
  },
  {
   "cell_type": "code",
   "execution_count": 38,
   "id": "68b43015-4f4f-49d9-8d4b-75b34db61797",
   "metadata": {},
   "outputs": [
    {
     "data": {
      "text/plain": [
       "['Data/Belarus.fasta',\n",
       " 'Data/Uzbekistan.fasta',\n",
       " 'Data/Ukraine.fasta',\n",
       " 'Data/Georgia.fasta',\n",
       " 'Data/Azerbaijan.fasta',\n",
       " 'Data/Russia_select2000.fasta',\n",
       " 'Data/Kazakhstan.fasta',\n",
       " 'Data/Kyrgyzstan.fasta',\n",
       " 'Data/Estonia_select2000.fasta',\n",
       " 'Data/Armenia.fasta',\n",
       " 'Data/Lithuania_select2000.fasta',\n",
       " 'Data/Latvia_select2000.fasta',\n",
       " 'Data/Moldova.fasta']"
      ]
     },
     "execution_count": 38,
     "metadata": {},
     "output_type": "execute_result"
    }
   ],
   "source": [
    "# a list of fasta files\n",
    "file_list = glob.glob(\"Data/*.fasta\")\n",
    "file_list"
   ]
  },
  {
   "cell_type": "code",
   "execution_count": 40,
   "id": "0f0df621-a28b-485f-bb57-d8bcd94a7360",
   "metadata": {},
   "outputs": [],
   "source": [
    "import glob\n",
    "\n",
    "# Assuming the file names are stored in a list called \"file_list\"\n",
    "output_file = \"Output/combined.fasta\"\n",
    "\n",
    "with open(output_file, \"w\") as outfile:\n",
    "    for file in file_list:\n",
    "        with open(file, \"r\") as infile:\n",
    "            outfile.write(infile.read())\n"
   ]
  },
  {
   "cell_type": "markdown",
   "id": "de096e4f-2d66-4753-a841-df0213b8cca1",
   "metadata": {},
   "source": [
    "## Alignment"
   ]
  },
  {
   "cell_type": "markdown",
   "id": "212f2a72-66fe-4c51-a13b-d637f1490d2e",
   "metadata": {},
   "source": [
    "For alignment the reference genome from Wuhan was used. Alignment was done with nextalign https://docs.nextstrain.org/projects/nextclade/en/stable/user/nextalign-cli.html.\n",
    "\n",
    "While I can not provide the data itself. However, it can be easily accessed with accession IDs from GISAID. Here is the script that runs alignment. It runs really fast, 30 seconds with 12 threads, and does not consume RAM."
   ]
  },
  {
   "cell_type": "raw",
   "id": "12b004ba-38e2-4b1b-b9b9-6fdf2739fd3f",
   "metadata": {},
   "source": [
    "time ./nextalign run \\\n",
    "  --input-ref=reference.fasta \\\n",
    "  --genemap=genemap.gff \\\n",
    "  --output-all=output/ \\\n",
    "  combined.fasta"
   ]
  },
  {
   "cell_type": "code",
   "execution_count": null,
   "id": "91731eb6-9e88-4faf-b704-c4b86313f007",
   "metadata": {},
   "outputs": [],
   "source": []
  }
 ],
 "metadata": {
  "kernelspec": {
   "display_name": "Python 3 (ipykernel)",
   "language": "python",
   "name": "python3"
  },
  "language_info": {
   "codemirror_mode": {
    "name": "ipython",
    "version": 3
   },
   "file_extension": ".py",
   "mimetype": "text/x-python",
   "name": "python",
   "nbconvert_exporter": "python",
   "pygments_lexer": "ipython3",
   "version": "3.9.13"
  }
 },
 "nbformat": 4,
 "nbformat_minor": 5
}
